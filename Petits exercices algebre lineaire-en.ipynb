{
 "cells": [
  {
   "cell_type": "code",
   "execution_count": 2,
   "metadata": {},
   "outputs": [],
   "source": [
    "import numpy as np"
   ]
  },
  {
   "cell_type": "markdown",
   "metadata": {},
   "source": [
    "# Quelques opérations matricielles"
   ]
  },
  {
   "cell_type": "markdown",
   "metadata": {},
   "source": [
    "**Question** Create the following matrix `A` with `arange` and `reshape`\n",
    "\n",
    "    array([[0, 1],\n",
    "           [2, 3],\n",
    "           [4, 5],\n",
    "           [6, 7],\n",
    "           [8, 9]])"
   ]
  },
  {
   "cell_type": "code",
   "execution_count": 3,
   "metadata": {},
   "outputs": [
    {
     "data": {
      "text/plain": [
       "array([[0, 1],\n",
       "       [2, 3],\n",
       "       [4, 5],\n",
       "       [6, 7],\n",
       "       [8, 9]])"
      ]
     },
     "execution_count": 3,
     "metadata": {},
     "output_type": "execute_result"
    }
   ],
   "source": [
    "A = np.arange(10).reshape((5,2))\n",
    "A"
   ]
  },
  {
   "cell_type": "markdown",
   "metadata": {},
   "source": [
    "**Question** Calculate `A + A` , `A*2`, `A**2`. "
   ]
  },
  {
   "cell_type": "code",
   "execution_count": 4,
   "metadata": {},
   "outputs": [
    {
     "name": "stdout",
     "output_type": "stream",
     "text": [
      "[[ 0  2]\n",
      " [ 4  6]\n",
      " [ 8 10]\n",
      " [12 14]\n",
      " [16 18]]\n",
      "-----------------------\n",
      "[[ 0  2]\n",
      " [ 4  6]\n",
      " [ 8 10]\n",
      " [12 14]\n",
      " [16 18]]\n",
      "-----------------------\n",
      "[[ 0  1]\n",
      " [ 4  9]\n",
      " [16 25]\n",
      " [36 49]\n",
      " [64 81]]\n"
     ]
    }
   ],
   "source": [
    "print(A+A)\n",
    "print('-----------------------')\n",
    "print(A*2)\n",
    "print('-----------------------')\n",
    "print(A**2)"
   ]
  },
  {
   "cell_type": "markdown",
   "metadata": {},
   "source": [
    "**Question** Describe the operations.  "
   ]
  },
  {
   "cell_type": "markdown",
   "metadata": {},
   "source": [
    "This kind of operations on matrix apply simples operation on each elements of the matrix"
   ]
  },
  {
   "cell_type": "markdown",
   "metadata": {},
   "source": [
    "## A first example of broadcasting"
   ]
  },
  {
   "cell_type": "markdown",
   "metadata": {},
   "source": [
    "**Question** Create an 1D-array numpy `v1t` containing two values `1` and `2`."
   ]
  },
  {
   "cell_type": "code",
   "execution_count": 5,
   "metadata": {},
   "outputs": [
    {
     "data": {
      "text/plain": [
       "array([1, 2])"
      ]
     },
     "execution_count": 5,
     "metadata": {},
     "output_type": "execute_result"
    }
   ],
   "source": [
    "v1t = np.array([1,2])\n",
    "v1t"
   ]
  },
  {
   "cell_type": "markdown",
   "metadata": {},
   "source": [
    "**Question** Calculate `A+v1t` and interpret the result? "
   ]
  },
  {
   "cell_type": "code",
   "execution_count": 6,
   "metadata": {},
   "outputs": [
    {
     "name": "stdout",
     "output_type": "stream",
     "text": [
      "[[ 1  3]\n",
      " [ 3  5]\n",
      " [ 5  7]\n",
      " [ 7  9]\n",
      " [ 9 11]]\n"
     ]
    }
   ],
   "source": [
    "print(A+v1t)"
   ]
  },
  {
   "cell_type": "markdown",
   "metadata": {},
   "source": [
    "This apply an addition on the firsts elements of the biggest matrix, the rest stay as they are"
   ]
  },
  {
   "cell_type": "markdown",
   "metadata": {},
   "source": [
    "**Question** Create`v2`, a matrix of 5 rows and 1 column containing numbers from 0 to 4."
   ]
  },
  {
   "cell_type": "code",
   "execution_count": 7,
   "metadata": {},
   "outputs": [
    {
     "data": {
      "text/plain": [
       "array([[0],\n",
       "       [1],\n",
       "       [2],\n",
       "       [3],\n",
       "       [4]])"
      ]
     },
     "execution_count": 7,
     "metadata": {},
     "output_type": "execute_result"
    }
   ],
   "source": [
    "v2 = np.arange(5).reshape(5, 1)\n",
    "v2"
   ]
  },
  {
   "cell_type": "markdown",
   "metadata": {},
   "source": [
    "**Question** Calculate `A+v2` and explain the result? "
   ]
  },
  {
   "cell_type": "code",
   "execution_count": 8,
   "metadata": {},
   "outputs": [
    {
     "name": "stdout",
     "output_type": "stream",
     "text": [
      "[[ 0  1]\n",
      " [ 3  4]\n",
      " [ 6  7]\n",
      " [ 9 10]\n",
      " [12 13]]\n"
     ]
    }
   ],
   "source": [
    "print(A+v2)"
   ]
  },
  {
   "cell_type": "markdown",
   "metadata": {},
   "source": [
    "This operation add v2[i] at A[i] for each i"
   ]
  },
  {
   "cell_type": "markdown",
   "metadata": {},
   "source": [
    "## 1d-arrays, nd-arrays and transpose"
   ]
  },
  {
   "cell_type": "markdown",
   "metadata": {},
   "source": [
    "**Question** Give the names `v3t` and `v4t` to the first two columns of `A`. "
   ]
  },
  {
   "cell_type": "code",
   "execution_count": 9,
   "metadata": {},
   "outputs": [
    {
     "data": {
      "text/plain": [
       "array([0, 2, 4, 6, 8])"
      ]
     },
     "execution_count": 9,
     "metadata": {},
     "output_type": "execute_result"
    }
   ],
   "source": [
    "v3t = A[:, 0]\n",
    "v4t = A[:, 1]\n",
    "v3t"
   ]
  },
  {
   "cell_type": "markdown",
   "metadata": {},
   "source": [
    "**Question** Do you obtain columns?"
   ]
  },
  {
   "cell_type": "markdown",
   "metadata": {},
   "source": [
    "no, I obtain a list of element that compose the colomn"
   ]
  },
  {
   "cell_type": "markdown",
   "metadata": {},
   "source": [
    "**Note** \n",
    "- Every numpy array has an attribute `T` which corresponds to the transpose view of the array. \n",
    "- Be careful! 1d-arrays and nd-arrays have different behavior... \n",
    "- Note that the number of square brackets pairs`[]` shows the number of axes."
   ]
  },
  {
   "cell_type": "markdown",
   "metadata": {},
   "source": [
    "**Question** Observe the transpose of `A`, `v1t` and `v2`."
   ]
  },
  {
   "cell_type": "code",
   "execution_count": 10,
   "metadata": {},
   "outputs": [
    {
     "name": "stdout",
     "output_type": "stream",
     "text": [
      "[[0 2 4 6 8]\n",
      " [1 3 5 7 9]]\n",
      "[1 2]\n",
      "[[0 1 2 3 4]]\n"
     ]
    }
   ],
   "source": [
    "print(A.T)\n",
    "print(v1t.T)\n",
    "print(v2.T)"
   ]
  },
  {
   "cell_type": "markdown",
   "metadata": {},
   "source": [
    "**Question** Interpret the results. "
   ]
  },
  {
   "cell_type": "markdown",
   "metadata": {},
   "source": [
    "*Answer*: the transpose of a 1D array is unchanged, it s the same as the matrix not transposed"
   ]
  },
  {
   "cell_type": "markdown",
   "metadata": {},
   "source": [
    "# Matrix multiplications"
   ]
  },
  {
   "cell_type": "markdown",
   "metadata": {},
   "source": [
    "The matrix multiplication $A$ times $B$ is defined when the number of columns in $A$ equals the number of rows in  $B$. If $A$'s shape is $(n,m)$ and $B$'shape is $(m,p)$ then $C=AB$ has  shape $(n,p)$ and $$C_{i,j} = \\sum_{k=1}^m A_{i,k}\\times B_{k,j}$$"
   ]
  },
  {
   "cell_type": "markdown",
   "metadata": {},
   "source": [
    "**Note** Matrix multiplication can be done in several ways in numpy:"
   ]
  },
  {
   "cell_type": "code",
   "execution_count": 11,
   "metadata": {},
   "outputs": [
    {
     "data": {
      "text/plain": [
       "array([[  1,   3,   5,   7,   9],\n",
       "       [  3,  13,  23,  33,  43],\n",
       "       [  5,  23,  41,  59,  77],\n",
       "       [  7,  33,  59,  85, 111],\n",
       "       [  9,  43,  77, 111, 145]])"
      ]
     },
     "execution_count": 11,
     "metadata": {},
     "output_type": "execute_result"
    }
   ],
   "source": [
    "C = np.dot(A, A.T)\n",
    "C = A @ A.T\n",
    "C = A.dot(A.T)\n",
    "C"
   ]
  },
  {
   "cell_type": "markdown",
   "metadata": {},
   "source": [
    "**Question** Calculate $v_2^\\top A$ and $A^\\top v_2$"
   ]
  },
  {
   "cell_type": "code",
   "execution_count": 12,
   "metadata": {},
   "outputs": [
    {
     "name": "stdout",
     "output_type": "stream",
     "text": [
      "[[60 70]]\n",
      "[[60]\n",
      " [70]]\n"
     ]
    }
   ],
   "source": [
    "print(v2.T @ A)\n",
    "print(A.T @ v2)"
   ]
  },
  {
   "cell_type": "markdown",
   "metadata": {},
   "source": [
    "**Note** Using the class `np.random.RandomState`, you can create instances to generate pseudo random numbers. You can fix the seed in the instance creation. "
   ]
  },
  {
   "cell_type": "code",
   "execution_count": 13,
   "metadata": {},
   "outputs": [],
   "source": [
    "rs = np.random.RandomState(42)"
   ]
  },
  {
   "cell_type": "markdown",
   "metadata": {},
   "source": [
    "**Question** Create 3x3 matrices `A`, `B` and `C` containing random numbers between 0 and 9.\n"
   ]
  },
  {
   "cell_type": "code",
   "execution_count": 14,
   "metadata": {},
   "outputs": [
    {
     "name": "stdout",
     "output_type": "stream",
     "text": [
      "[[6 3 7]\n",
      " [4 6 9]\n",
      " [2 6 7]]\n",
      "[[4 3 7]\n",
      " [7 2 5]\n",
      " [4 1 7]]\n",
      "[[5 1 4]\n",
      " [0 9 5]\n",
      " [8 0 9]]\n"
     ]
    }
   ],
   "source": [
    "A = rs.randint(0, 10, size=(3, 3))\n",
    "B = rs.randint(0, 10, size=(3, 3))\n",
    "C = rs.randint(0, 10, size=(3, 3))\n",
    "print(A)\n",
    "print(B)\n",
    "print(C)"
   ]
  },
  {
   "cell_type": "markdown",
   "metadata": {},
   "source": [
    "**Question** Calculate $AB$, $BA$, $A^\\top B^\\top$, $(BA)^\\top$"
   ]
  },
  {
   "cell_type": "code",
   "execution_count": 15,
   "metadata": {},
   "outputs": [
    {
     "name": "stdout",
     "output_type": "stream",
     "text": [
      "[[ 73  31 106]\n",
      " [ 94  33 121]\n",
      " [ 78  25  93]]\n",
      "\n",
      "[[ 50  72 104]\n",
      " [ 60  63 102]\n",
      " [ 42  60  86]]\n",
      "\n",
      "[[ 50  60  42]\n",
      " [ 72  63  60]\n",
      " [104 102  86]]\n",
      "\n",
      "[[ 50  60  42]\n",
      " [ 72  63  60]\n",
      " [104 102  86]]\n"
     ]
    }
   ],
   "source": [
    "AB = A@B\n",
    "BA = B@A\n",
    "A_T_B_T = A.T @ B.T\n",
    "BA_T = (B@A).T\n",
    "print(AB)\n",
    "print()\n",
    "print(BA)\n",
    "print()\n",
    "print(A_T_B_T)\n",
    "print()\n",
    "print(BA_T)"
   ]
  },
  {
   "cell_type": "markdown",
   "metadata": {},
   "source": [
    "**Question** Give the identities and the differences."
   ]
  },
  {
   "cell_type": "markdown",
   "metadata": {},
   "source": [
    "*Answer*: (B @ A).T = A.T @ B.T\n",
    "\n",
    "A@B != B@A"
   ]
  },
  {
   "cell_type": "markdown",
   "metadata": {},
   "source": [
    "**Question** Calculate $(AB)C$, $A(BC)$, $A(B+C)$, $AB+AC$"
   ]
  },
  {
   "cell_type": "code",
   "execution_count": 16,
   "metadata": {},
   "outputs": [
    {
     "name": "stdout",
     "output_type": "stream",
     "text": [
      "[[1213  352 1401]\n",
      " [1438  391 1630]\n",
      " [1134  303 1274]]\n",
      "\n",
      "[[1213  352 1401]\n",
      " [1438  391 1630]\n",
      " [1134  303 1274]]\n",
      "\n",
      "[[159  64 208]\n",
      " [186  91 248]\n",
      " [144  81 194]]\n",
      "\n",
      "[[159  64 208]\n",
      " [186  91 248]\n",
      " [144  81 194]]\n"
     ]
    }
   ],
   "source": [
    "AB_C = (A@B) @ C\n",
    "A_BC = A @ (B@C)\n",
    "A_B_plus_C = A @ (B + C)\n",
    "AB_plus_AC = (A@B) + (A@C)\n",
    "\n",
    "print(AB_C)\n",
    "print()\n",
    "print(A_BC)\n",
    "print()\n",
    "print(A_B_plus_C)\n",
    "print()\n",
    "print(AB_plus_AC)"
   ]
  },
  {
   "cell_type": "markdown",
   "metadata": {},
   "source": [
    "**Question** Give the identities."
   ]
  },
  {
   "cell_type": "markdown",
   "metadata": {},
   "source": [
    "*Answer*:\n",
    "\n",
    "(A@B) @ C = A @ (B@C)\n",
    "\n",
    "A @ (B + C) = (A@B) + (A@C)"
   ]
  },
  {
   "cell_type": "markdown",
   "metadata": {},
   "source": [
    "## Scalar product"
   ]
  },
  {
   "cell_type": "markdown",
   "metadata": {},
   "source": [
    "The scalar product of two vectors of size  $n$ is $$\\langle u,v \\rangle= \\sum_{i=1}^n u_i\\times v_i=u^\\top v$$\n"
   ]
  },
  {
   "cell_type": "markdown",
   "metadata": {},
   "source": [
    "**Question** Create 2 1d-array `v1t` and `v2t` of size 4 of random numbers in the interval $[-9, 10)$ (10 is excluded)"
   ]
  },
  {
   "cell_type": "code",
   "execution_count": 17,
   "metadata": {},
   "outputs": [
    {
     "name": "stdout",
     "output_type": "stream",
     "text": [
      "[6 5 5 9]\n",
      "[ 2 -7 -5  9]\n"
     ]
    }
   ],
   "source": [
    "v1t = rs.randint(-9, 10, size=4)\n",
    "v2t = rs.randint(-9, 10, size=4)\n",
    "print(v1t)\n",
    "print(v2t)"
   ]
  },
  {
   "cell_type": "markdown",
   "metadata": {},
   "source": [
    "**Question** Calculate `v1t@v2t`, `v2t@v1t` and conclude "
   ]
  },
  {
   "cell_type": "code",
   "execution_count": 18,
   "metadata": {},
   "outputs": [
    {
     "name": "stdout",
     "output_type": "stream",
     "text": [
      "33\n",
      "33\n"
     ]
    }
   ],
   "source": [
    "print(v1t @ v2t)\n",
    "print(v2t @ v1t)"
   ]
  },
  {
   "cell_type": "markdown",
   "metadata": {},
   "source": [
    "*Answer*: for a 1D array, this calcul is commutative and possible"
   ]
  },
  {
   "cell_type": "markdown",
   "metadata": {},
   "source": [
    "**Question** With `reshape` or `newaxis`, create 4x1 matrices  `v1` and `v2` from `v1t` and `v2t`."
   ]
  },
  {
   "cell_type": "code",
   "execution_count": 19,
   "metadata": {},
   "outputs": [
    {
     "name": "stdout",
     "output_type": "stream",
     "text": [
      "[[33]]\n"
     ]
    }
   ],
   "source": [
    "v1 = v1t.reshape(4, 1)\n",
    "v2 = v2t[:, np.newaxis]\n",
    "print(v1.T @ v2)"
   ]
  },
  {
   "cell_type": "markdown",
   "metadata": {},
   "source": [
    "**Question** Now calculate `v1@v2` and `v2@v1`. Conclusion!"
   ]
  },
  {
   "cell_type": "markdown",
   "metadata": {},
   "source": [
    "*Answer*: thsi calcul is not possible due to the 2D, matrice 1 have not the same number of column than the 2nd have lines"
   ]
  },
  {
   "cell_type": "markdown",
   "metadata": {},
   "source": [
    "**Question** Calculate the scalar product using `v1.T` and `v2`. Is the result a scalar?"
   ]
  },
  {
   "cell_type": "markdown",
   "metadata": {},
   "source": [
    "*Answer*: in fact, the result is a 2D matrice, but it only contains 1 element, so it can be considered as an unic value"
   ]
  },
  {
   "cell_type": "markdown",
   "metadata": {},
   "source": [
    "## Norms (Important)"
   ]
  },
  {
   "cell_type": "markdown",
   "metadata": {},
   "source": [
    "The $p$-norm of $v$ is defined by $$\\Vert v \\Vert_p=\\big(\\sum_{i=1}^n |x_i|^p\\big)^{\\frac{1}{p}}$$\n",
    "We often compute the 2-norm and this is the default when $p$ is not given.\n",
    "$$\\Vert v \\Vert=\\sqrt{\\big(\\sum_{i=1}^n |x_i|^2\\big)}$$\n",
    "See the doc of `np.linalg.norm`.  "
   ]
  },
  {
   "cell_type": "markdown",
   "metadata": {},
   "source": [
    "**Question** What is the norm of `v1`."
   ]
  },
  {
   "cell_type": "code",
   "execution_count": 20,
   "metadata": {},
   "outputs": [
    {
     "data": {
      "text/plain": [
       "np.float64(12.922847983320086)"
      ]
     },
     "execution_count": 20,
     "metadata": {},
     "output_type": "execute_result"
    }
   ],
   "source": [
    "v1_norm = np.linalg.norm(v1)\n",
    "v1_norm"
   ]
  },
  {
   "cell_type": "markdown",
   "metadata": {},
   "source": [
    "**Question** From the previous definitions we have $\\langle v,v\\rangle = \\Vert v\\Vert^2$. Double check with `v1`"
   ]
  },
  {
   "cell_type": "code",
   "execution_count": 21,
   "metadata": {},
   "outputs": [
    {
     "name": "stdout",
     "output_type": "stream",
     "text": [
      "[[167]]\n",
      "167.0\n"
     ]
    }
   ],
   "source": [
    "print((v1.T@v1))\n",
    "print(np.linalg.norm(v1)**2)"
   ]
  },
  {
   "cell_type": "markdown",
   "metadata": {},
   "source": [
    "**Question** The norm is like a distance between the extreme points of the vector. It satisfies the triangular inequality: $\\Vert u+v\\Vert \\leq \\Vert u\\Vert + \\Vert v \\Vert$. Check the inquality with `v1`and `v2`."
   ]
  },
  {
   "cell_type": "code",
   "execution_count": 22,
   "metadata": {},
   "outputs": [
    {
     "name": "stdout",
     "output_type": "stream",
     "text": [
      "12.922847983320086\n",
      "12.609520212918492\n",
      "19.79898987322333\n"
     ]
    }
   ],
   "source": [
    "print(np.linalg.norm(v1))\n",
    "print(np.linalg.norm(v2))\n",
    "print(np.linalg.norm(v1 + v2))"
   ]
  },
  {
   "cell_type": "markdown",
   "metadata": {},
   "source": [
    "**Question** Reading the documentation of `np.linalg.norm`, you have learned that the computation is different when the function is applied on 1d-arrays and nd-arrays. Calculate $p$-norms for $p=1$ and $p=\\infty$ on `v1t` using `np.linalg.norm`. Do the same computation with numpy but without this function in order to check that you have perfectly understood what the function is doing on different kind of arrays. (`np.Inf` is $+\\infty$)"
   ]
  },
  {
   "cell_type": "code",
   "execution_count": 23,
   "metadata": {},
   "outputs": [
    {
     "name": "stdout",
     "output_type": "stream",
     "text": [
      "25.0\n",
      "9.0\n"
     ]
    }
   ],
   "source": [
    "print(np.linalg.norm(v1t, ord=1))\n",
    "print(np.linalg.norm(v1t, ord=np.inf))"
   ]
  },
  {
   "cell_type": "markdown",
   "metadata": {},
   "source": [
    "**Question** Now on $A$, what are the  1-norm, the $\\infty$-norm and the Froebenius norm?"
   ]
  },
  {
   "cell_type": "code",
   "execution_count": 24,
   "metadata": {},
   "outputs": [
    {
     "name": "stdout",
     "output_type": "stream",
     "text": [
      "23.0\n",
      "19.0\n",
      "17.776388834631177\n"
     ]
    }
   ],
   "source": [
    "print(np.linalg.norm(A, ord=1))\n",
    "print(np.linalg.norm(A, ord=np.inf))\n",
    "print(np.linalg.norm(A, ord='fro'))\n"
   ]
  },
  {
   "cell_type": "markdown",
   "metadata": {},
   "source": [
    "# Solving a system of linear equations"
   ]
  },
  {
   "cell_type": "markdown",
   "metadata": {},
   "source": [
    "We want to solve $$\\left \\{ \\begin{array}{ll}x_2 = 3 x_1\\\\x_2 = -x_1 +3\\end{array} \\right .$$\n",
    "\n",
    "Each equation define a set of points of coordinates $(x_1,x_2)$ by a linear relation between $x_1$ and $x_2$. The conjunction of the 2 equations is therefore the intersection between the 2 sets. We can draw the corresponding graph:"
   ]
  },
  {
   "attachments": {
    "image.png": {
     "image/png": "[encoded data removed]"
    }
   },
   "cell_type": "markdown",
   "metadata": {},
   "source": [
    "**Question** Draw the two lines \n",
    "\n",
    "$$\\left \\{ \\begin{array}{l}x_2 = 3 x_1\\\\x_2 = -x_1 +3\\end{array} \\right .$$ \n",
    "\n",
    "for $x_2$ in $[0, 3]$. It should be like this:\n",
    "\n",
    "![image.png](attachment:image.png)\n",
    "\n",
    "Use `plot` for the lines and  `scatter` for the dot at the intersection (compute the value by hand!). "
   ]
  },
  {
   "cell_type": "code",
   "execution_count": 25,
   "metadata": {},
   "outputs": [
    {
     "data": {
      "text/plain": [
       "[<matplotlib.lines.Line2D at 0x23b4aac2a50>]"
      ]
     },
     "execution_count": 25,
     "metadata": {},
     "output_type": "execute_result"
    },
    {
     "data": {
      "image/png": "[encoded data removed]",
      "text/plain": [
       "<Figure size 640x480 with 1 Axes>"
      ]
     },
     "metadata": {},
     "output_type": "display_data"
    }
   ],
   "source": [
    "import matplotlib.pyplot as plt\n",
    "x1 = np.linspace(0, 3, 100)\n",
    "x2_line1 = 3 * x1\n",
    "x2_line2 = -x1 + 3\n",
    "plt.plot(x1, x2_line1)\n",
    "plt.plot(x1, x2_line2)"
   ]
  },
  {
   "cell_type": "markdown",
   "metadata": {},
   "source": [
    "**Question** Rewrite the system\n",
    "\n",
    "$$\\left \\{ \\begin{array}{l}x_2 = 3 x_1\\\\x_2 = -x_1 +3\\end{array} \\right .$$ \n",
    "\n",
    "under the form $Ax = b$ where $x$ is a (columnwise) vector $(x_1,x_2)$. Create $A$ and $b$."
   ]
  },
  {
   "cell_type": "code",
   "execution_count": 28,
   "metadata": {},
   "outputs": [
    {
     "name": "stdout",
     "output_type": "stream",
     "text": [
      "[[-3  1]\n",
      " [ 1  1]]\n",
      "[0 3]\n"
     ]
    }
   ],
   "source": [
    "A = np.array([[-3, 1],\n",
    "              [ 1, 1]])\n",
    "b = np.array([0, 3])\n",
    "print(A)\n",
    "print(b)"
   ]
  },
  {
   "cell_type": "markdown",
   "metadata": {},
   "source": [
    "**Question** Calculate $Ax$ for the column vector $(1, 1)^T$"
   ]
  },
  {
   "cell_type": "code",
   "execution_count": 29,
   "metadata": {},
   "outputs": [
    {
     "name": "stdout",
     "output_type": "stream",
     "text": [
      "[[-2]\n",
      " [ 2]]\n"
     ]
    }
   ],
   "source": [
    "x = np.array([[1],\n",
    "              [1]])\n",
    "Ax = A @ x\n",
    "print(Ax)"
   ]
  },
  {
   "cell_type": "markdown",
   "metadata": {},
   "source": [
    "**Question** With `np.linalg.inv`, name `Ainv` the matrix inverse of $A$."
   ]
  },
  {
   "cell_type": "code",
   "execution_count": 31,
   "metadata": {},
   "outputs": [
    {
     "data": {
      "text/plain": [
       "array([[-0.25,  0.25],\n",
       "       [ 0.25,  0.75]])"
      ]
     },
     "execution_count": 31,
     "metadata": {},
     "output_type": "execute_result"
    }
   ],
   "source": [
    "Ainv = np.linalg.inv(A)\n",
    "Ainv"
   ]
  },
  {
   "cell_type": "markdown",
   "metadata": {},
   "source": [
    "**Question** Calculate the product of `Ainv` by `A`. Conclusion "
   ]
  },
  {
   "cell_type": "code",
   "execution_count": 32,
   "metadata": {},
   "outputs": [
    {
     "name": "stdout",
     "output_type": "stream",
     "text": [
      "[[1. 0.]\n",
      " [0. 1.]]\n"
     ]
    }
   ],
   "source": [
    "print (Ainv@A)"
   ]
  },
  {
   "cell_type": "markdown",
   "metadata": {},
   "source": [
    "*Answer*: Ainv * A is a unitary vector"
   ]
  },
  {
   "cell_type": "markdown",
   "metadata": {},
   "source": [
    "**Question** Calculate $x= A^{-1}b$ and then $Ax$. Conclusion. "
   ]
  },
  {
   "cell_type": "code",
   "execution_count": 34,
   "metadata": {},
   "outputs": [
    {
     "name": "stdout",
     "output_type": "stream",
     "text": [
      "[0.75 2.25]\n",
      "[0. 3.]\n"
     ]
    }
   ],
   "source": [
    "x = Ainv @ b \n",
    "print(x)\n",
    "print(A @ x)"
   ]
  },
  {
   "cell_type": "markdown",
   "metadata": {},
   "source": [
    "*Answer*: we can find the solution thanks to Ainv@b"
   ]
  },
  {
   "cell_type": "markdown",
   "metadata": {},
   "source": [
    "**Questions** Using the geometrical interpretation of what we did, define 2 systems for which the intersection of the 2 equations is either null or not a single point. What can you say about $A^{-1}$ in these cases? "
   ]
  },
  {
   "cell_type": "code",
   "execution_count": null,
   "metadata": {},
   "outputs": [
    {
     "ename": "LinAlgError",
     "evalue": "Singular matrix",
     "output_type": "error",
     "traceback": [
      "\u001b[31m---------------------------------------------------------------------------\u001b[39m",
      "\u001b[31mLinAlgError\u001b[39m                               Traceback (most recent call last)",
      "\u001b[36mCell\u001b[39m\u001b[36m \u001b[39m\u001b[32mIn[35]\u001b[39m\u001b[32m, line 4\u001b[39m\n\u001b[32m      1\u001b[39m A = np.array([[-\u001b[32m3\u001b[39m, \u001b[32m1\u001b[39m],\n\u001b[32m      2\u001b[39m               [-\u001b[32m3\u001b[39m, \u001b[32m1\u001b[39m]])\n\u001b[32m      3\u001b[39m b = np.array([\u001b[32m0\u001b[39m, \u001b[32m1\u001b[39m])\n\u001b[32m----> \u001b[39m\u001b[32m4\u001b[39m \u001b[43mnp\u001b[49m\u001b[43m.\u001b[49m\u001b[43mlinalg\u001b[49m\u001b[43m.\u001b[49m\u001b[43minv\u001b[49m\u001b[43m(\u001b[49m\u001b[43mA\u001b[49m\u001b[43m)\u001b[49m\n",
      "\u001b[36mFile \u001b[39m\u001b[32m~\\AppData\\Local\\Packages\\PythonSoftwareFoundation.Python.3.11_qbz5n2kfra8p0\\LocalCache\\local-packages\\Python311\\site-packages\\numpy\\linalg\\_linalg.py:669\u001b[39m, in \u001b[36minv\u001b[39m\u001b[34m(a)\u001b[39m\n\u001b[32m    666\u001b[39m signature = \u001b[33m'\u001b[39m\u001b[33mD->D\u001b[39m\u001b[33m'\u001b[39m \u001b[38;5;28;01mif\u001b[39;00m isComplexType(t) \u001b[38;5;28;01melse\u001b[39;00m \u001b[33m'\u001b[39m\u001b[33md->d\u001b[39m\u001b[33m'\u001b[39m\n\u001b[32m    667\u001b[39m \u001b[38;5;28;01mwith\u001b[39;00m errstate(call=_raise_linalgerror_singular, invalid=\u001b[33m'\u001b[39m\u001b[33mcall\u001b[39m\u001b[33m'\u001b[39m,\n\u001b[32m    668\u001b[39m               over=\u001b[33m'\u001b[39m\u001b[33mignore\u001b[39m\u001b[33m'\u001b[39m, divide=\u001b[33m'\u001b[39m\u001b[33mignore\u001b[39m\u001b[33m'\u001b[39m, under=\u001b[33m'\u001b[39m\u001b[33mignore\u001b[39m\u001b[33m'\u001b[39m):\n\u001b[32m--> \u001b[39m\u001b[32m669\u001b[39m     ainv = \u001b[43m_umath_linalg\u001b[49m\u001b[43m.\u001b[49m\u001b[43minv\u001b[49m\u001b[43m(\u001b[49m\u001b[43ma\u001b[49m\u001b[43m,\u001b[49m\u001b[43m \u001b[49m\u001b[43msignature\u001b[49m\u001b[43m=\u001b[49m\u001b[43msignature\u001b[49m\u001b[43m)\u001b[49m\n\u001b[32m    670\u001b[39m \u001b[38;5;28;01mreturn\u001b[39;00m wrap(ainv.astype(result_t, copy=\u001b[38;5;28;01mFalse\u001b[39;00m))\n",
      "\u001b[36mFile \u001b[39m\u001b[32m~\\AppData\\Local\\Packages\\PythonSoftwareFoundation.Python.3.11_qbz5n2kfra8p0\\LocalCache\\local-packages\\Python311\\site-packages\\numpy\\linalg\\_linalg.py:163\u001b[39m, in \u001b[36m_raise_linalgerror_singular\u001b[39m\u001b[34m(err, flag)\u001b[39m\n\u001b[32m    162\u001b[39m \u001b[38;5;28;01mdef\u001b[39;00m\u001b[38;5;250m \u001b[39m\u001b[34m_raise_linalgerror_singular\u001b[39m(err, flag):\n\u001b[32m--> \u001b[39m\u001b[32m163\u001b[39m     \u001b[38;5;28;01mraise\u001b[39;00m LinAlgError(\u001b[33m\"\u001b[39m\u001b[33mSingular matrix\u001b[39m\u001b[33m\"\u001b[39m)\n",
      "\u001b[31mLinAlgError\u001b[39m: Singular matrix"
     ]
    }
   ],
   "source": [
    "A = np.array([[-3, 1],\n",
    "              [-3, 1]])\n",
    "np.linalg.inv(A)"
   ]
  },
  {
   "cell_type": "markdown",
   "metadata": {},
   "source": [
    "*Answer*: the inverse of matrice A don t exist, the np.linalg.inv(A) return an error"
   ]
  },
  {
   "cell_type": "markdown",
   "metadata": {},
   "source": [
    "**Note** Everything extends to the case where the number of equations/variables is greater than 2!"
   ]
  }
 ],
 "metadata": {
  "kernelspec": {
   "display_name": "Python 3",
   "language": "python",
   "name": "python3"
  },
  "language_info": {
   "codemirror_mode": {
    "name": "ipython",
    "version": 3
   },
   "file_extension": ".py",
   "mimetype": "text/x-python",
   "name": "python",
   "nbconvert_exporter": "python",
   "pygments_lexer": "ipython3",
   "version": "3.11.9"
  }
 },
 "nbformat": 4,
 "nbformat_minor": 2
}
