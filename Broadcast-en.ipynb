{
 "cells": [
  {
   "cell_type": "code",
   "execution_count": 1,
   "metadata": {},
   "outputs": [],
   "source": [
    "import numpy as np\n",
    "%matplotlib inline\n",
    "import matplotlib.pyplot as plt\n",
    "import seaborn as sns; sns.set()"
   ]
  },
  {
   "cell_type": "markdown",
   "metadata": {},
   "source": [
    "# Gentle start with one dimensional data"
   ]
  },
  {
   "cell_type": "markdown",
   "metadata": {},
   "source": [
    "Let us consider a set $Y$ of point on the real line:  1, 3, 7, 2."
   ]
  },
  {
   "cell_type": "markdown",
   "metadata": {},
   "source": [
    "**Question** Create a 1d-array `Y` for these values"
   ]
  },
  {
   "cell_type": "code",
   "execution_count": 2,
   "metadata": {},
   "outputs": [
    {
     "name": "stdout",
     "output_type": "stream",
     "text": [
      "[1 3 7 2]\n"
     ]
    }
   ],
   "source": [
    "Y = np.array([1, 3, 7, 2])\n",
    "print(Y)"
   ]
  },
  {
   "cell_type": "markdown",
   "metadata": {},
   "source": [
    "We want to calculate all pairs of distances involving elements of $Y$. It will be stored in a matrix  `M` such that  `M[i,j] = Y[i] - Y[j]` for `i` and `j` in `Y`. We will use broadcasting for that!"
   ]
  },
  {
   "cell_type": "markdown",
   "metadata": {},
   "source": [
    "**Question** Create a (4, 1) matrix `a` and a (1, 4) matrix `b` containing `Y` and `Y.T`."
   ]
  },
  {
   "cell_type": "code",
   "execution_count": 7,
   "metadata": {},
   "outputs": [
    {
     "name": "stdout",
     "output_type": "stream",
     "text": [
      "[[1]\n",
      " [3]\n",
      " [7]\n",
      " [2]]\n",
      "[[1 3 7 2]]\n"
     ]
    }
   ],
   "source": [
    "a = Y.reshape((4, 1))\n",
    "b = Y.reshape((1, 4))\n",
    "print(a)\n",
    "print(b)\n"
   ]
  },
  {
   "cell_type": "markdown",
   "metadata": {},
   "source": [
    "**Question** Try \n",
    "\n",
    "    np.arange(5)[:, np.newaxis]\n",
    "    \n",
    "Use that trick to create `a` and `b`! "
   ]
  },
  {
   "cell_type": "code",
   "execution_count": 12,
   "metadata": {},
   "outputs": [
    {
     "name": "stdout",
     "output_type": "stream",
     "text": [
      "[[1]\n",
      " [3]\n",
      " [7]\n",
      " [2]]\n"
     ]
    }
   ],
   "source": [
    "a = Y[:, np.newaxis]\n",
    "print(a)"
   ]
  },
  {
   "cell_type": "code",
   "execution_count": 13,
   "metadata": {},
   "outputs": [
    {
     "name": "stdout",
     "output_type": "stream",
     "text": [
      "[[1 3 7 2]]\n"
     ]
    }
   ],
   "source": [
    "b = Y[np.newaxis, :]\n",
    "print(b)"
   ]
  },
  {
   "cell_type": "markdown",
   "metadata": {},
   "source": [
    "**Question** Observe the value of `a - b`. Read the [documentation of broadcasting](https://numpy.org/doc/stable/user/basics.broadcasting.html) and describe what numpy did to calculate `a-b`. "
   ]
  },
  {
   "cell_type": "code",
   "execution_count": 15,
   "metadata": {},
   "outputs": [
    {
     "name": "stdout",
     "output_type": "stream",
     "text": [
      "[[ 0 -2 -6 -1]\n",
      " [ 2  0 -4  1]\n",
      " [ 6  4  0  5]\n",
      " [ 1 -1 -5  0]]\n"
     ]
    }
   ],
   "source": [
    "M = a - b\n",
    "print(M)"
   ]
  },
  {
   "cell_type": "markdown",
   "metadata": {},
   "source": [
    "*Answer* : NumPy uses broadcasting when we compute a-b so the output shape is (4, 4)"
   ]
  },
  {
   "cell_type": "markdown",
   "metadata": {},
   "source": [
    "**Question** Compute the square of this matrix `a-b` in `dsquared`."
   ]
  },
  {
   "cell_type": "code",
   "execution_count": 17,
   "metadata": {},
   "outputs": [
    {
     "name": "stdout",
     "output_type": "stream",
     "text": [
      "[[ 0  4 36  1]\n",
      " [ 4  0 16  1]\n",
      " [36 16  0 25]\n",
      " [ 1  1 25  0]]\n"
     ]
    }
   ],
   "source": [
    "dsquared = M**2\n",
    "print(dsquared)"
   ]
  },
  {
   "cell_type": "markdown",
   "metadata": {},
   "source": [
    "**Question** Read the documentation of [np.argsort](https://numpy.org/doc/stable/reference/generated/numpy.argsort.html) and try this example \n",
    "\n",
    "    np.argsort(np.array([1, 0, 12, 2]))\n",
    "    \n",
    "Why do you have 1, 0, 3, 2 as a result? "
   ]
  },
  {
   "cell_type": "markdown",
   "metadata": {},
   "source": [
    "*Answer*: argsort return the indices that would sort an array, in [1, 0, 12, 2], '1' whould be at index 1, '0' at index 0, '12' at 3, '2' at 2"
   ]
  },
  {
   "cell_type": "markdown",
   "metadata": {},
   "source": [
    "**Question** Use `argsort` on `dsquared` to obtain a matrix such that for each line $i$ you have the indexes of points ordered by the squared distance to point $i$.   "
   ]
  },
  {
   "cell_type": "code",
   "execution_count": 21,
   "metadata": {},
   "outputs": [
    {
     "name": "stdout",
     "output_type": "stream",
     "text": [
      "[[0 3 1 2]\n",
      " [1 3 0 2]\n",
      " [2 1 3 0]\n",
      " [3 0 1 2]]\n"
     ]
    }
   ],
   "source": [
    "sorted_indices = np.argsort(dsquared, axis=1)\n",
    "print(sorted_indices)"
   ]
  },
  {
   "cell_type": "markdown",
   "metadata": {},
   "source": [
    "# In 2 dimensions... "
   ]
  },
  {
   "cell_type": "markdown",
   "metadata": {},
   "source": [
    "**Question** Sample uniformly 10 points in $[0,1]^2$. (Hint: Use `np.random.rand`). Store the result in `X`."
   ]
  },
  {
   "cell_type": "code",
   "execution_count": 23,
   "metadata": {},
   "outputs": [
    {
     "name": "stdout",
     "output_type": "stream",
     "text": [
      "[[0.55104512 0.47225216]\n",
      " [0.77124534 0.59177934]\n",
      " [0.80339583 0.38789127]\n",
      " [0.0559893  0.98267707]\n",
      " [0.43231909 0.08874858]\n",
      " [0.86805926 0.81893134]\n",
      " [0.63822838 0.50296097]\n",
      " [0.89537313 0.5227525 ]\n",
      " [0.35213725 0.94007194]\n",
      " [0.62394185 0.49795527]]\n"
     ]
    }
   ],
   "source": [
    "X = np.random.rand(10, 2)\n",
    "print(X)"
   ]
  },
  {
   "cell_type": "markdown",
   "metadata": {},
   "source": [
    "**Question** Draw the points on a diagram."
   ]
  },
  {
   "cell_type": "code",
   "execution_count": 24,
   "metadata": {},
   "outputs": [
    {
     "data": {
      "text/plain": [
       "<matplotlib.collections.PathCollection at 0x2ac7ed9c910>"
      ]
     },
     "execution_count": 24,
     "metadata": {},
     "output_type": "execute_result"
    },
    {
     "data": {
      "image/png": "[encoded data removed]",
      "text/plain": [
       "<Figure size 640x480 with 1 Axes>"
      ]
     },
     "metadata": {},
     "output_type": "display_data"
    }
   ],
   "source": [
    "plt.scatter(X[:,0], X[:,1])"
   ]
  },
  {
   "cell_type": "markdown",
   "metadata": {},
   "source": [
    "Note the meaning of each axis in `X`. The first axis (rows) is the index of a point in the set (the first row is the first point). The second axis is the index of the coordinates (The first column is the first coordinate, ie the x-axis; The second column is the second coordinate, ie the y-axis) "
   ]
  },
  {
   "cell_type": "markdown",
   "metadata": {},
   "source": [
    "**Question** Now create `a` and `b` by adding a third axis using `np.newaxis` at the right position so that \n",
    "\n",
    "$$a[i, j, k] - b[i, j, k] = X[i, k] - X[j, k]$$\n",
    "\n",
    "Hint: As you can see in this expression, $i$ and $j$ are indexes of points and $k$ is the index of a coordinate. Broacasting will help to stretch the axis that corresponds to indexes of points..."
   ]
  },
  {
   "cell_type": "code",
   "execution_count": 28,
   "metadata": {},
   "outputs": [
    {
     "name": "stdout",
     "output_type": "stream",
     "text": [
      "(10, 1, 2)\n",
      "(1, 10, 2)\n",
      "[[[ 0.          0.        ]\n",
      "  [-0.22020022 -0.11952717]\n",
      "  [-0.2523507   0.08436089]\n",
      "  [ 0.49505583 -0.5104249 ]\n",
      "  [ 0.11872603  0.38350359]\n",
      "  [-0.31701413 -0.34667918]\n",
      "  [-0.08718326 -0.0307088 ]\n",
      "  [-0.34432801 -0.05050034]\n",
      "  [ 0.19890787 -0.46781978]\n",
      "  [-0.07289673 -0.0257031 ]]\n",
      "\n",
      " [[ 0.22020022  0.11952717]\n",
      "  [ 0.          0.        ]\n",
      "  [-0.03215049  0.20388806]\n",
      "  [ 0.71525604 -0.39089773]\n",
      "  [ 0.33892625  0.50303076]\n",
      "  [-0.09681392 -0.22715201]\n",
      "  [ 0.13301696  0.08881837]\n",
      "  [-0.12412779  0.06902683]\n",
      "  [ 0.41910809 -0.34829261]\n",
      "  [ 0.14730349  0.09382407]]\n",
      "\n",
      " [[ 0.2523507  -0.08436089]\n",
      "  [ 0.03215049 -0.20388806]\n",
      "  [ 0.          0.        ]\n",
      "  [ 0.74740653 -0.59478579]\n",
      "  [ 0.37107673  0.2991427 ]\n",
      "  [-0.06466343 -0.43104007]\n",
      "  [ 0.16516745 -0.1150697 ]\n",
      "  [-0.0919773  -0.13486123]\n",
      "  [ 0.45125858 -0.55218067]\n",
      "  [ 0.17945398 -0.11006399]]\n",
      "\n",
      " [[-0.49505583  0.5104249 ]\n",
      "  [-0.71525604  0.39089773]\n",
      "  [-0.74740653  0.59478579]\n",
      "  [ 0.          0.        ]\n",
      "  [-0.3763298   0.89392849]\n",
      "  [-0.81206996  0.16374572]\n",
      "  [-0.58223908  0.4797161 ]\n",
      "  [-0.83938384  0.45992456]\n",
      "  [-0.29614795  0.04260512]\n",
      "  [-0.56795255  0.4847218 ]]\n",
      "\n",
      " [[-0.11872603 -0.38350359]\n",
      "  [-0.33892625 -0.50303076]\n",
      "  [-0.37107673 -0.2991427 ]\n",
      "  [ 0.3763298  -0.89392849]\n",
      "  [ 0.          0.        ]\n",
      "  [-0.43574016 -0.73018277]\n",
      "  [-0.20590929 -0.41421239]\n",
      "  [-0.46305404 -0.43400393]\n",
      "  [ 0.08018184 -0.85132337]\n",
      "  [-0.19162276 -0.40920669]]\n",
      "\n",
      " [[ 0.31701413  0.34667918]\n",
      "  [ 0.09681392  0.22715201]\n",
      "  [ 0.06466343  0.43104007]\n",
      "  [ 0.81206996 -0.16374572]\n",
      "  [ 0.43574016  0.73018277]\n",
      "  [ 0.          0.        ]\n",
      "  [ 0.22983088  0.31597038]\n",
      "  [-0.02731387  0.29617884]\n",
      "  [ 0.51592201 -0.1211406 ]\n",
      "  [ 0.24411741  0.32097608]]\n",
      "\n",
      " [[ 0.08718326  0.0307088 ]\n",
      "  [-0.13301696 -0.08881837]\n",
      "  [-0.16516745  0.1150697 ]\n",
      "  [ 0.58223908 -0.4797161 ]\n",
      "  [ 0.20590929  0.41421239]\n",
      "  [-0.22983088 -0.31597038]\n",
      "  [ 0.          0.        ]\n",
      "  [-0.25714475 -0.01979154]\n",
      "  [ 0.28609113 -0.43711098]\n",
      "  [ 0.01428653  0.0050057 ]]\n",
      "\n",
      " [[ 0.34432801  0.05050034]\n",
      "  [ 0.12412779 -0.06902683]\n",
      "  [ 0.0919773   0.13486123]\n",
      "  [ 0.83938384 -0.45992456]\n",
      "  [ 0.46305404  0.43400393]\n",
      "  [ 0.02731387 -0.29617884]\n",
      "  [ 0.25714475  0.01979154]\n",
      "  [ 0.          0.        ]\n",
      "  [ 0.54323588 -0.41731944]\n",
      "  [ 0.27143128  0.02479724]]\n",
      "\n",
      " [[-0.19890787  0.46781978]\n",
      "  [-0.41910809  0.34829261]\n",
      "  [-0.45125858  0.55218067]\n",
      "  [ 0.29614795 -0.04260512]\n",
      "  [-0.08018184  0.85132337]\n",
      "  [-0.51592201  0.1211406 ]\n",
      "  [-0.28609113  0.43711098]\n",
      "  [-0.54323588  0.41731944]\n",
      "  [ 0.          0.        ]\n",
      "  [-0.2718046   0.44211668]]\n",
      "\n",
      " [[ 0.07289673  0.0257031 ]\n",
      "  [-0.14730349 -0.09382407]\n",
      "  [-0.17945398  0.11006399]\n",
      "  [ 0.56795255 -0.4847218 ]\n",
      "  [ 0.19162276  0.40920669]\n",
      "  [-0.24411741 -0.32097608]\n",
      "  [-0.01428653 -0.0050057 ]\n",
      "  [-0.27143128 -0.02479724]\n",
      "  [ 0.2718046  -0.44211668]\n",
      "  [ 0.          0.        ]]]\n"
     ]
    }
   ],
   "source": [
    "a = X[:, np.newaxis, :]\n",
    "b = X[np.newaxis, :, :]\n",
    "print(a.shape)\n",
    "print(b.shape)\n",
    "print(a-b)"
   ]
  },
  {
   "cell_type": "markdown",
   "metadata": {},
   "source": [
    "**Question** Now you can calculate in `dsquared_coord` the squared value of the difference on each coordinate of all pairs of points. "
   ]
  },
  {
   "cell_type": "code",
   "execution_count": null,
   "metadata": {},
   "outputs": [],
   "source": [
    "dsquared_coord = (a - b)**2"
   ]
  },
  {
   "cell_type": "markdown",
   "metadata": {},
   "source": [
    "**Question** It is now easy to compute with `sum` the squared distance between each pair of points! This is `dsquared`. It is a (10, 10) matrix..."
   ]
  },
  {
   "cell_type": "code",
   "execution_count": 34,
   "metadata": {},
   "outputs": [
    {
     "name": "stdout",
     "output_type": "stream",
     "text": [
      "(10, 10)\n"
     ]
    }
   ],
   "source": [
    "dsquared = dsquared_coord.sum(axis=2)\n",
    "print(dsquared.shape)"
   ]
  },
  {
   "cell_type": "markdown",
   "metadata": {},
   "source": [
    "**Question** Now use `np.argsort` to get a (10, 10) matrix `nn` that indicates in row $i$ the indices of points that are the closest to point $i$. "
   ]
  },
  {
   "cell_type": "code",
   "execution_count": 36,
   "metadata": {},
   "outputs": [
    {
     "name": "stdout",
     "output_type": "stream",
     "text": [
      "(10, 10)\n",
      "[[0 9 6 1 2 7 4 5 8 3]\n",
      " [1 7 6 9 2 5 0 8 4 3]\n",
      " [2 7 6 1 9 0 5 4 8 3]\n",
      " [3 8 0 9 6 1 5 2 7 4]\n",
      " [4 0 9 6 2 1 7 5 8 3]\n",
      " [5 1 7 6 9 2 0 8 3 4]\n",
      " [6 9 0 1 2 7 5 4 8 3]\n",
      " [7 1 2 6 9 5 0 4 8 3]\n",
      " [8 3 0 9 6 5 1 7 2 4]\n",
      " [9 6 0 1 2 7 5 4 8 3]]\n"
     ]
    }
   ],
   "source": [
    "nn = np.argsort(dsquared, axis=1)\n",
    "print(nn.shape)\n",
    "print(nn)"
   ]
  },
  {
   "cell_type": "code",
   "execution_count": 41,
   "metadata": {},
   "outputs": [
    {
     "data": {
      "image/png": "[encoded data removed]",
      "text/plain": [
       "<Figure size 640x480 with 1 Axes>"
      ]
     },
     "metadata": {},
     "output_type": "display_data"
    }
   ],
   "source": [
    "plt.scatter(X[:, 0], X[:, 1])\n",
    "for i in range(10):\n",
    "    p = np.vstack([X[i, :], X[nn[i, 1]]])\n",
    "    plt.plot(p[:,0], p[:,1])"
   ]
  },
  {
   "cell_type": "code",
   "execution_count": null,
   "metadata": {},
   "outputs": [],
   "source": []
  }
 ],
 "metadata": {
  "kernelspec": {
   "display_name": "Python 3",
   "language": "python",
   "name": "python3"
  },
  "language_info": {
   "codemirror_mode": {
    "name": "ipython",
    "version": 3
   },
   "file_extension": ".py",
   "mimetype": "text/x-python",
   "name": "python",
   "nbconvert_exporter": "python",
   "pygments_lexer": "ipython3",
   "version": "3.11.9"
  }
 },
 "nbformat": 4,
 "nbformat_minor": 2
}
